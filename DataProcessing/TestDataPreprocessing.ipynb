{
 "cells": [
  {
   "cell_type": "code",
   "execution_count": 1,
   "id": "2da1a91b-46d7-4f2d-ba52-d828cc39fe9c",
   "metadata": {
    "execution": {
     "iopub.execute_input": "2024-12-20T15:37:09.727499Z",
     "iopub.status.busy": "2024-12-20T15:37:09.723936Z",
     "iopub.status.idle": "2024-12-20T15:37:10.426574Z",
     "shell.execute_reply": "2024-12-20T15:37:10.425218Z"
    },
    "papermill": {
     "duration": 0.722558,
     "end_time": "2024-12-20T15:37:10.426888",
     "exception": false,
     "start_time": "2024-12-20T15:37:09.704330",
     "status": "completed"
    },
    "tags": []
   },
   "outputs": [],
   "source": [
    "import pandas as pd"
   ]
  },
  {
   "cell_type": "code",
   "execution_count": 2,
   "id": "05dc7705-dc74-491b-a32b-dd85657466ec",
   "metadata": {
    "execution": {
     "iopub.execute_input": "2024-12-20T15:37:10.458455Z",
     "iopub.status.busy": "2024-12-20T15:37:10.455894Z",
     "iopub.status.idle": "2024-12-20T15:37:10.490625Z",
     "shell.execute_reply": "2024-12-20T15:37:10.491695Z"
    },
    "papermill": {
     "duration": 0.053513,
     "end_time": "2024-12-20T15:37:10.491994",
     "exception": false,
     "start_time": "2024-12-20T15:37:10.438481",
     "status": "completed"
    },
    "tags": []
   },
   "outputs": [],
   "source": [
    "test = pd.read_csv('../Data/test.csv')"
   ]
  },
  {
   "cell_type": "code",
   "execution_count": 3,
   "id": "cee06803-0a98-4be9-b93d-ef65732a6221",
   "metadata": {
    "execution": {
     "iopub.execute_input": "2024-12-20T15:37:10.521040Z",
     "iopub.status.busy": "2024-12-20T15:37:10.519612Z",
     "iopub.status.idle": "2024-12-20T15:37:10.539055Z",
     "shell.execute_reply": "2024-12-20T15:37:10.537356Z"
    },
    "papermill": {
     "duration": 0.039321,
     "end_time": "2024-12-20T15:37:10.539335",
     "exception": false,
     "start_time": "2024-12-20T15:37:10.500014",
     "status": "completed"
    },
    "tags": []
   },
   "outputs": [],
   "source": [
    "test['CryoSleep'].replace({True: 1, False: 0}, inplace=True)\n",
    "test['VIP'].replace({True: 1, False: 0}, inplace=True)"
   ]
  },
  {
   "cell_type": "code",
   "execution_count": 4,
   "id": "cd697c2b-6f4c-48d3-83e7-b5b759ba22ec",
   "metadata": {
    "execution": {
     "iopub.execute_input": "2024-12-20T15:37:10.568756Z",
     "iopub.status.busy": "2024-12-20T15:37:10.567155Z",
     "iopub.status.idle": "2024-12-20T15:37:10.599044Z",
     "shell.execute_reply": "2024-12-20T15:37:10.597492Z"
    },
    "papermill": {
     "duration": 0.053472,
     "end_time": "2024-12-20T15:37:10.599448",
     "exception": false,
     "start_time": "2024-12-20T15:37:10.545976",
     "status": "completed"
    },
    "tags": []
   },
   "outputs": [],
   "source": [
    "test['VIP'] = test['VIP'].fillna(0)\n",
    "num_df = test.select_dtypes(exclude=['object'])\n",
    "num_сols_with_missing = [col for col in num_df.columns \n",
    "                         if num_df[col].isnull().any()]\n",
    "test[num_сols_with_missing] = test[num_сols_with_missing].fillna(test[num_сols_with_missing].mean())"
   ]
  },
  {
   "cell_type": "code",
   "execution_count": 5,
   "id": "a037340c-79c7-4423-aade-b7e0c3133812",
   "metadata": {
    "execution": {
     "iopub.execute_input": "2024-12-20T15:37:10.633588Z",
     "iopub.status.busy": "2024-12-20T15:37:10.632042Z",
     "iopub.status.idle": "2024-12-20T15:37:10.674074Z",
     "shell.execute_reply": "2024-12-20T15:37:10.673058Z"
    },
    "papermill": {
     "duration": 0.068567,
     "end_time": "2024-12-20T15:37:10.674295",
     "exception": false,
     "start_time": "2024-12-20T15:37:10.605728",
     "status": "completed"
    },
    "tags": []
   },
   "outputs": [],
   "source": [
    "cols = ['PassengerId', 'HomePlanet', 'Cabin', 'Destination', 'Name']\n",
    "test[cols] = test[cols].transform(lambda x: x.fillna(x.dropna().mode()[0]))\n",
    "test['CryoSleep'] = test['CryoSleep'].astype(int)\n",
    "test['VIP'] = test['VIP'].astype(int)"
   ]
  },
  {
   "cell_type": "code",
   "execution_count": 6,
   "id": "d02bb817-41c1-4847-8e21-ff7a629258d1",
   "metadata": {
    "execution": {
     "iopub.execute_input": "2024-12-20T15:37:10.706096Z",
     "iopub.status.busy": "2024-12-20T15:37:10.704238Z",
     "iopub.status.idle": "2024-12-20T15:37:10.720167Z",
     "shell.execute_reply": "2024-12-20T15:37:10.718568Z"
    },
    "papermill": {
     "duration": 0.037394,
     "end_time": "2024-12-20T15:37:10.720460",
     "exception": false,
     "start_time": "2024-12-20T15:37:10.683066",
     "status": "completed"
    },
    "tags": []
   },
   "outputs": [],
   "source": [
    "# Проверяем существование столбца 'Cabin'\n",
    "if 'Cabin' in test.columns:\n",
    "    # Определяем размер экипажа на основе 'Cabin'\n",
    "    crew_size = test['Cabin'].value_counts()\n",
    "    test['CrewSize'] = test['Cabin'].map(crew_size)\n",
    "else:\n",
    "    print(\"Warning: 'Cabin' column not found.\")"
   ]
  },
  {
   "cell_type": "code",
   "execution_count": 7,
   "id": "839d8afb-884b-4e30-8e0d-1e938c91308b",
   "metadata": {
    "execution": {
     "iopub.execute_input": "2024-12-20T15:37:10.751080Z",
     "iopub.status.busy": "2024-12-20T15:37:10.749412Z",
     "iopub.status.idle": "2024-12-20T15:37:10.760661Z",
     "shell.execute_reply": "2024-12-20T15:37:10.761845Z"
    },
    "papermill": {
     "duration": 0.034501,
     "end_time": "2024-12-20T15:37:10.762230",
     "exception": false,
     "start_time": "2024-12-20T15:37:10.727729",
     "status": "completed"
    },
    "tags": []
   },
   "outputs": [],
   "source": [
    "cols = ['RoomService', 'FoodCourt', 'ShoppingMall', 'Spa', 'VRDeck']\n",
    "test['TotalWastes'] = test['RoomService'] + test['FoodCourt'] + test['ShoppingMall'] + test['Spa'] + test['VRDeck']\n",
    "test.drop(cols, axis=1, inplace=True)"
   ]
  },
  {
   "cell_type": "code",
   "execution_count": 8,
   "id": "b7facd2a-5597-46b1-97b9-fc52930540f7",
   "metadata": {
    "execution": {
     "iopub.execute_input": "2024-12-20T15:37:10.792022Z",
     "iopub.status.busy": "2024-12-20T15:37:10.789818Z",
     "iopub.status.idle": "2024-12-20T15:37:10.801096Z",
     "shell.execute_reply": "2024-12-20T15:37:10.799877Z"
    },
    "papermill": {
     "duration": 0.031915,
     "end_time": "2024-12-20T15:37:10.801373",
     "exception": false,
     "start_time": "2024-12-20T15:37:10.769458",
     "status": "completed"
    },
    "tags": []
   },
   "outputs": [],
   "source": [
    "crew_size = test['Cabin'].value_counts()\n",
    "test['CrewSize'] = test['Cabin'].map(crew_size)"
   ]
  },
  {
   "cell_type": "code",
   "execution_count": 9,
   "id": "579f632e-1a20-4c6b-9bc4-c84b3918e735",
   "metadata": {
    "execution": {
     "iopub.execute_input": "2024-12-20T15:37:10.826236Z",
     "iopub.status.busy": "2024-12-20T15:37:10.821802Z",
     "iopub.status.idle": "2024-12-20T15:37:10.842124Z",
     "shell.execute_reply": "2024-12-20T15:37:10.840663Z"
    },
    "papermill": {
     "duration": 0.035933,
     "end_time": "2024-12-20T15:37:10.842382",
     "exception": false,
     "start_time": "2024-12-20T15:37:10.806449",
     "status": "completed"
    },
    "tags": []
   },
   "outputs": [],
   "source": [
    "test.drop_duplicates(inplace=True)"
   ]
  },
  {
   "cell_type": "code",
   "execution_count": 10,
   "id": "16e89905-44d4-425a-a1ee-c14e462f6fb9",
   "metadata": {
    "execution": {
     "iopub.execute_input": "2024-12-20T15:37:10.871014Z",
     "iopub.status.busy": "2024-12-20T15:37:10.869367Z",
     "iopub.status.idle": "2024-12-20T15:37:10.916160Z",
     "shell.execute_reply": "2024-12-20T15:37:10.917384Z"
    },
    "papermill": {
     "duration": 0.068496,
     "end_time": "2024-12-20T15:37:10.917780",
     "exception": false,
     "start_time": "2024-12-20T15:37:10.849284",
     "status": "completed"
    },
    "tags": []
   },
   "outputs": [],
   "source": [
    "test.to_csv('../Data/test_preprocessed.csv', index=False)"
   ]
  }
 ],
 "metadata": {
  "kernelspec": {
   "display_name": "Python 3 (ipykernel)",
   "language": "python",
   "name": "python3"
  },
  "language_info": {
   "codemirror_mode": {
    "name": "ipython",
    "version": 3
   },
   "file_extension": ".py",
   "mimetype": "text/x-python",
   "name": "python",
   "nbconvert_exporter": "python",
   "pygments_lexer": "ipython3",
   "version": "3.9.7"
  },
  "papermill": {
   "default_parameters": {},
   "duration": 3.61548,
   "end_time": "2024-12-20T15:37:11.357262",
   "environment_variables": {},
   "exception": null,
   "input_path": "/home/jovyan/work/DataProcessing/TestDataPreprocessing.ipynb",
   "output_path": "/home/jovyan/work/DataProcessing/TestDataPreprocessing.ipynb",
   "parameters": {},
   "start_time": "2024-12-20T15:37:07.741782",
   "version": "2.4.0"
  }
 },
 "nbformat": 4,
 "nbformat_minor": 5
}