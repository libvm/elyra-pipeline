{
 "cells": [
  {
   "cell_type": "code",
   "execution_count": 1,
   "id": "ab9a4930-203c-4eb7-b452-a6b0b76f1839",
   "metadata": {
    "execution": {
     "iopub.execute_input": "2024-12-20T15:37:05.363504Z",
     "iopub.status.busy": "2024-12-20T15:37:05.362072Z",
     "iopub.status.idle": "2024-12-20T15:37:06.427687Z",
     "shell.execute_reply": "2024-12-20T15:37:06.428566Z"
    },
    "papermill": {
     "duration": 1.0857,
     "end_time": "2024-12-20T15:37:06.428843",
     "exception": false,
     "start_time": "2024-12-20T15:37:05.343143",
     "status": "completed"
    },
    "tags": []
   },
   "outputs": [],
   "source": [
    "import pandas as pd\n",
    "import numpy as np"
   ]
  },
  {
   "cell_type": "code",
   "execution_count": 2,
   "id": "c37aca45-9fdb-49c9-8cbe-252d0b8dfea6",
   "metadata": {
    "execution": {
     "iopub.execute_input": "2024-12-20T15:37:06.456788Z",
     "iopub.status.busy": "2024-12-20T15:37:06.455670Z",
     "iopub.status.idle": "2024-12-20T15:37:06.556299Z",
     "shell.execute_reply": "2024-12-20T15:37:06.557516Z"
    },
    "papermill": {
     "duration": 0.115334,
     "end_time": "2024-12-20T15:37:06.559301",
     "exception": false,
     "start_time": "2024-12-20T15:37:06.443967",
     "status": "completed"
    },
    "tags": []
   },
   "outputs": [],
   "source": [
    "train = pd.read_csv('../Data/train.csv')"
   ]
  },
  {
   "cell_type": "code",
   "execution_count": 3,
   "id": "3f476892-32de-4814-a833-fd607ba8dda9",
   "metadata": {
    "execution": {
     "iopub.execute_input": "2024-12-20T15:37:06.603536Z",
     "iopub.status.busy": "2024-12-20T15:37:06.602391Z",
     "iopub.status.idle": "2024-12-20T15:37:06.677874Z",
     "shell.execute_reply": "2024-12-20T15:37:06.671515Z"
    },
    "papermill": {
     "duration": 0.107305,
     "end_time": "2024-12-20T15:37:06.678236",
     "exception": false,
     "start_time": "2024-12-20T15:37:06.570931",
     "status": "completed"
    },
    "tags": []
   },
   "outputs": [],
   "source": [
    "train['Transported'].replace({True: 1, False: 0}, inplace=True)\n",
    "train['CryoSleep'].replace({True: 1, False: 0}, inplace=True)\n",
    "train['VIP'].replace({True: 1, False: 0}, inplace=True)"
   ]
  },
  {
   "cell_type": "code",
   "execution_count": 4,
   "id": "28742d34-5cab-4124-a656-24e7a9761daf",
   "metadata": {
    "execution": {
     "iopub.execute_input": "2024-12-20T15:37:06.730723Z",
     "iopub.status.busy": "2024-12-20T15:37:06.729276Z",
     "iopub.status.idle": "2024-12-20T15:37:06.774290Z",
     "shell.execute_reply": "2024-12-20T15:37:06.772718Z"
    },
    "papermill": {
     "duration": 0.078475,
     "end_time": "2024-12-20T15:37:06.774496",
     "exception": false,
     "start_time": "2024-12-20T15:37:06.696021",
     "status": "completed"
    },
    "tags": []
   },
   "outputs": [],
   "source": [
    "train['VIP'] = train['VIP'].fillna(0)\n",
    "num_df = train.select_dtypes(exclude=['object'])\n",
    "num_сols_with_missing = [col for col in num_df.columns \n",
    "                         if num_df[col].isnull().any()]\n",
    "train[num_сols_with_missing] = train[num_сols_with_missing].fillna(train[num_сols_with_missing].mean())"
   ]
  },
  {
   "cell_type": "code",
   "execution_count": 5,
   "id": "2aada25b-c05c-4a5c-96eb-baa04c5406c8",
   "metadata": {
    "execution": {
     "iopub.execute_input": "2024-12-20T15:37:06.797538Z",
     "iopub.status.busy": "2024-12-20T15:37:06.796456Z",
     "iopub.status.idle": "2024-12-20T15:37:06.898610Z",
     "shell.execute_reply": "2024-12-20T15:37:06.899415Z"
    },
    "papermill": {
     "duration": 0.115683,
     "end_time": "2024-12-20T15:37:06.899665",
     "exception": false,
     "start_time": "2024-12-20T15:37:06.783982",
     "status": "completed"
    },
    "tags": []
   },
   "outputs": [],
   "source": [
    "cols = ['PassengerId', 'HomePlanet', 'Cabin', 'Destination', 'Name']\n",
    "train[cols] = train[cols].transform(lambda x: x.fillna(x.dropna().mode()[0]))"
   ]
  },
  {
   "cell_type": "code",
   "execution_count": 6,
   "id": "a43673a4-ba49-4638-8779-c9d90352eb4e",
   "metadata": {
    "execution": {
     "iopub.execute_input": "2024-12-20T15:37:06.930363Z",
     "iopub.status.busy": "2024-12-20T15:37:06.924111Z",
     "iopub.status.idle": "2024-12-20T15:37:06.942362Z",
     "shell.execute_reply": "2024-12-20T15:37:06.941139Z"
    },
    "papermill": {
     "duration": 0.028223,
     "end_time": "2024-12-20T15:37:06.942566",
     "exception": false,
     "start_time": "2024-12-20T15:37:06.914343",
     "status": "completed"
    },
    "tags": []
   },
   "outputs": [],
   "source": [
    "train['Transported'] = train['Transported'].astype(int)\n",
    "train['CryoSleep'] = train['CryoSleep'].astype(int)\n",
    "train['VIP'] = train['VIP'].astype(int)"
   ]
  },
  {
   "cell_type": "code",
   "execution_count": 7,
   "id": "40080dd2-69b1-4b8b-8b09-bec3f73f17d6",
   "metadata": {
    "execution": {
     "iopub.execute_input": "2024-12-20T15:37:06.966346Z",
     "iopub.status.busy": "2024-12-20T15:37:06.965301Z",
     "iopub.status.idle": "2024-12-20T15:37:06.980059Z",
     "shell.execute_reply": "2024-12-20T15:37:06.979162Z"
    },
    "papermill": {
     "duration": 0.028782,
     "end_time": "2024-12-20T15:37:06.980274",
     "exception": false,
     "start_time": "2024-12-20T15:37:06.951492",
     "status": "completed"
    },
    "tags": []
   },
   "outputs": [],
   "source": [
    "cols = ['RoomService', 'FoodCourt', 'ShoppingMall', 'Spa', 'VRDeck']\n",
    "train['TotalWastes'] = train['RoomService'] + train['FoodCourt'] + train['ShoppingMall'] + train['Spa'] + train['VRDeck']\n",
    "train.drop(cols, axis=1, inplace=True)"
   ]
  },
  {
   "cell_type": "code",
   "execution_count": 8,
   "id": "5518aad0-7255-49cf-951c-3495225bc62e",
   "metadata": {
    "execution": {
     "iopub.execute_input": "2024-12-20T15:37:07.005537Z",
     "iopub.status.busy": "2024-12-20T15:37:07.004471Z",
     "iopub.status.idle": "2024-12-20T15:37:07.022103Z",
     "shell.execute_reply": "2024-12-20T15:37:07.021256Z"
    },
    "papermill": {
     "duration": 0.036585,
     "end_time": "2024-12-20T15:37:07.022310",
     "exception": false,
     "start_time": "2024-12-20T15:37:06.985725",
     "status": "completed"
    },
    "tags": []
   },
   "outputs": [],
   "source": [
    "crew_size = train['Cabin'].value_counts()\n",
    "train['CrewSize'] = train['Cabin'].map(crew_size)"
   ]
  },
  {
   "cell_type": "code",
   "execution_count": 9,
   "id": "b65c8447-21f1-44c2-a387-f8ad6703f447",
   "metadata": {
    "execution": {
     "iopub.execute_input": "2024-12-20T15:37:07.043514Z",
     "iopub.status.busy": "2024-12-20T15:37:07.039719Z",
     "iopub.status.idle": "2024-12-20T15:37:07.079516Z",
     "shell.execute_reply": "2024-12-20T15:37:07.074885Z"
    },
    "papermill": {
     "duration": 0.050335,
     "end_time": "2024-12-20T15:37:07.079743",
     "exception": false,
     "start_time": "2024-12-20T15:37:07.029408",
     "status": "completed"
    },
    "tags": []
   },
   "outputs": [],
   "source": [
    "train.drop_duplicates(inplace=True)"
   ]
  },
  {
   "cell_type": "code",
   "execution_count": 10,
   "id": "cf243707-0bbc-49a5-b90e-4ab2da2510ff",
   "metadata": {
    "execution": {
     "iopub.execute_input": "2024-12-20T15:37:07.107569Z",
     "iopub.status.busy": "2024-12-20T15:37:07.103641Z",
     "iopub.status.idle": "2024-12-20T15:37:07.204947Z",
     "shell.execute_reply": "2024-12-20T15:37:07.203769Z"
    },
    "papermill": {
     "duration": 0.114443,
     "end_time": "2024-12-20T15:37:07.205160",
     "exception": false,
     "start_time": "2024-12-20T15:37:07.090717",
     "status": "completed"
    },
    "tags": []
   },
   "outputs": [],
   "source": [
    "train.to_csv('../Data/train_preprocessed.csv', index=False)"
   ]
  }
 ],
 "metadata": {
  "kernelspec": {
   "display_name": "Python 3 (ipykernel)",
   "language": "python",
   "name": "python3"
  },
  "language_info": {
   "codemirror_mode": {
    "name": "ipython",
    "version": 3
   },
   "file_extension": ".py",
   "mimetype": "text/x-python",
   "name": "python",
   "nbconvert_exporter": "python",
   "pygments_lexer": "ipython3",
   "version": "3.9.7"
  },
  "papermill": {
   "default_parameters": {},
   "duration": 4.193032,
   "end_time": "2024-12-20T15:37:07.668677",
   "environment_variables": {},
   "exception": null,
   "input_path": "/home/jovyan/work/DataProcessing/TrainDataPreprocessing.ipynb",
   "output_path": "/home/jovyan/work/DataProcessing/TrainDataPreprocessing.ipynb",
   "parameters": {},
   "start_time": "2024-12-20T15:37:03.475645",
   "version": "2.4.0"
  }
 },
 "nbformat": 4,
 "nbformat_minor": 5
}