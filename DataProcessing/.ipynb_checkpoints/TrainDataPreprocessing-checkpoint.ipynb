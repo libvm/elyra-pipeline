{
 "cells": [
  {
   "cell_type": "code",
   "execution_count": 1,
   "id": "ab9a4930-203c-4eb7-b452-a6b0b76f1839",
   "metadata": {
    "execution": {
     "iopub.execute_input": "2024-12-20T15:11:10.655884Z",
     "iopub.status.busy": "2024-12-20T15:11:10.653135Z",
     "iopub.status.idle": "2024-12-20T15:11:11.121888Z",
     "shell.execute_reply": "2024-12-20T15:11:11.123110Z"
    },
    "papermill": {
     "duration": 0.513277,
     "end_time": "2024-12-20T15:11:11.123495",
     "exception": false,
     "start_time": "2024-12-20T15:11:10.610218",
     "status": "completed"
    },
    "tags": []
   },
   "outputs": [],
   "source": [
    "import pandas as pd\n",
    "import numpy as np"
   ]
  },
  {
   "cell_type": "code",
   "execution_count": 2,
   "id": "c37aca45-9fdb-49c9-8cbe-252d0b8dfea6",
   "metadata": {
    "execution": {
     "iopub.execute_input": "2024-12-20T15:11:11.147922Z",
     "iopub.status.busy": "2024-12-20T15:11:11.146780Z",
     "iopub.status.idle": "2024-12-20T15:11:11.192771Z",
     "shell.execute_reply": "2024-12-20T15:11:11.191261Z"
    },
    "papermill": {
     "duration": 0.060029,
     "end_time": "2024-12-20T15:11:11.193166",
     "exception": false,
     "start_time": "2024-12-20T15:11:11.133137",
     "status": "completed"
    },
    "tags": []
   },
   "outputs": [],
   "source": [
    "train = pd.read_csv('../Data/train.csv')"
   ]
  },
  {
   "cell_type": "code",
   "execution_count": 3,
   "id": "3f476892-32de-4814-a833-fd607ba8dda9",
   "metadata": {
    "execution": {
     "iopub.execute_input": "2024-12-20T15:11:11.219452Z",
     "iopub.status.busy": "2024-12-20T15:11:11.218591Z",
     "iopub.status.idle": "2024-12-20T15:11:11.241893Z",
     "shell.execute_reply": "2024-12-20T15:11:11.243496Z"
    },
    "papermill": {
     "duration": 0.04115,
     "end_time": "2024-12-20T15:11:11.243914",
     "exception": false,
     "start_time": "2024-12-20T15:11:11.202764",
     "status": "completed"
    },
    "tags": []
   },
   "outputs": [],
   "source": [
    "train['Transported'].replace({True: 1, False: 0}, inplace=True)\n",
    "train['CryoSleep'].replace({True: 1, False: 0}, inplace=True)\n",
    "train['VIP'].replace({True: 1, False: 0}, inplace=True)"
   ]
  },
  {
   "cell_type": "code",
   "execution_count": 4,
   "id": "28742d34-5cab-4124-a656-24e7a9761daf",
   "metadata": {
    "execution": {
     "iopub.execute_input": "2024-12-20T15:11:11.276076Z",
     "iopub.status.busy": "2024-12-20T15:11:11.274674Z",
     "iopub.status.idle": "2024-12-20T15:11:11.296857Z",
     "shell.execute_reply": "2024-12-20T15:11:11.298221Z"
    },
    "papermill": {
     "duration": 0.04371,
     "end_time": "2024-12-20T15:11:11.298632",
     "exception": false,
     "start_time": "2024-12-20T15:11:11.254922",
     "status": "completed"
    },
    "tags": []
   },
   "outputs": [],
   "source": [
    "train['VIP'] = train['VIP'].fillna(0)\n",
    "num_df = train.select_dtypes(exclude=['object'])\n",
    "num_сols_with_missing = [col for col in num_df.columns \n",
    "                         if num_df[col].isnull().any()]\n",
    "train[num_сols_with_missing] = train[num_сols_with_missing].fillna(train[num_сols_with_missing].mean())"
   ]
  },
  {
   "cell_type": "code",
   "execution_count": 5,
   "id": "2aada25b-c05c-4a5c-96eb-baa04c5406c8",
   "metadata": {
    "execution": {
     "iopub.execute_input": "2024-12-20T15:11:11.326550Z",
     "iopub.status.busy": "2024-12-20T15:11:11.325143Z",
     "iopub.status.idle": "2024-12-20T15:11:11.363707Z",
     "shell.execute_reply": "2024-12-20T15:11:11.364942Z"
    },
    "papermill": {
     "duration": 0.057952,
     "end_time": "2024-12-20T15:11:11.365337",
     "exception": false,
     "start_time": "2024-12-20T15:11:11.307385",
     "status": "completed"
    },
    "tags": []
   },
   "outputs": [],
   "source": [
    "cols = ['PassengerId', 'HomePlanet', 'Cabin', 'Destination', 'Name']\n",
    "train[cols] = train[cols].transform(lambda x: x.fillna(x.dropna().mode()[0]))"
   ]
  },
  {
   "cell_type": "code",
   "execution_count": 6,
   "id": "a43673a4-ba49-4638-8779-c9d90352eb4e",
   "metadata": {
    "execution": {
     "iopub.execute_input": "2024-12-20T15:11:11.392094Z",
     "iopub.status.busy": "2024-12-20T15:11:11.390362Z",
     "iopub.status.idle": "2024-12-20T15:11:11.399527Z",
     "shell.execute_reply": "2024-12-20T15:11:11.398093Z"
    },
    "papermill": {
     "duration": 0.025877,
     "end_time": "2024-12-20T15:11:11.399859",
     "exception": false,
     "start_time": "2024-12-20T15:11:11.373982",
     "status": "completed"
    },
    "tags": []
   },
   "outputs": [],
   "source": [
    "train['Transported'] = train['Transported'].astype(int)\n",
    "train['CryoSleep'] = train['CryoSleep'].astype(int)\n",
    "train['VIP'] = train['VIP'].astype(int)"
   ]
  },
  {
   "cell_type": "code",
   "execution_count": 9,
   "id": "40080dd2-69b1-4b8b-8b09-bec3f73f17d6",
   "metadata": {
    "execution": {
     "iopub.execute_input": "2024-12-20T15:11:11.513095Z",
     "iopub.status.busy": "2024-12-20T15:11:11.512264Z",
     "iopub.status.idle": "2024-12-20T15:11:11.517624Z",
     "shell.execute_reply": "2024-12-20T15:11:11.516567Z"
    },
    "papermill": {
     "duration": 0.021374,
     "end_time": "2024-12-20T15:11:11.517871",
     "exception": false,
     "start_time": "2024-12-20T15:11:11.496497",
     "status": "completed"
    },
    "tags": []
   },
   "outputs": [],
   "source": [
    "cols = ['RoomService', 'FoodCourt', 'ShoppingMall', 'Spa', 'VRDeck']\n",
    "train['TotalWastes'] = train['RoomService'] + train['FoodCourt'] + train['ShoppingMall'] + train['Spa'] + train['VRDeck']\n",
    "train.drop(cols, axis=1, inplace=True)"
   ]
  },
  {
   "cell_type": "code",
   "execution_count": 10,
   "id": "5518aad0-7255-49cf-951c-3495225bc62e",
   "metadata": {
    "execution": {
     "iopub.execute_input": "2024-12-20T15:11:11.542871Z",
     "iopub.status.busy": "2024-12-20T15:11:11.541016Z",
     "iopub.status.idle": "2024-12-20T15:11:11.554010Z",
     "shell.execute_reply": "2024-12-20T15:11:11.553338Z"
    },
    "papermill": {
     "duration": 0.029671,
     "end_time": "2024-12-20T15:11:11.554182",
     "exception": false,
     "start_time": "2024-12-20T15:11:11.524511",
     "status": "completed"
    },
    "tags": []
   },
   "outputs": [],
   "source": [
    "crew_size = train['Cabin'].value_counts()\n",
    "train['CrewSize'] = train['Cabin'].map(crew_size)"
   ]
  },
  {
   "cell_type": "code",
   "execution_count": 11,
   "id": "b65c8447-21f1-44c2-a387-f8ad6703f447",
   "metadata": {
    "execution": {
     "iopub.execute_input": "2024-12-20T15:11:11.576799Z",
     "iopub.status.busy": "2024-12-20T15:11:11.575888Z",
     "iopub.status.idle": "2024-12-20T15:11:11.590760Z",
     "shell.execute_reply": "2024-12-20T15:11:11.591411Z"
    },
    "papermill": {
     "duration": 0.032411,
     "end_time": "2024-12-20T15:11:11.591606",
     "exception": false,
     "start_time": "2024-12-20T15:11:11.559195",
     "status": "completed"
    },
    "tags": []
   },
   "outputs": [],
   "source": [
    "train.drop_duplicates(inplace=True)"
   ]
  },
  {
   "cell_type": "code",
   "execution_count": 12,
   "id": "cf243707-0bbc-49a5-b90e-4ab2da2510ff",
   "metadata": {
    "execution": {
     "iopub.execute_input": "2024-12-20T15:11:11.608825Z",
     "iopub.status.busy": "2024-12-20T15:11:11.607285Z",
     "iopub.status.idle": "2024-12-20T15:11:11.661548Z",
     "shell.execute_reply": "2024-12-20T15:11:11.662228Z"
    },
    "papermill": {
     "duration": 0.066926,
     "end_time": "2024-12-20T15:11:11.662465",
     "exception": false,
     "start_time": "2024-12-20T15:11:11.595539",
     "status": "completed"
    },
    "tags": []
   },
   "outputs": [],
   "source": [
    "train.to_csv('../Data/train_preprocessed.csv', index=False)"
   ]
  }
 ],
 "metadata": {
  "kernelspec": {
   "display_name": "Python 3 (ipykernel)",
   "language": "python",
   "name": "python3"
  },
  "language_info": {
   "codemirror_mode": {
    "name": "ipython",
    "version": 3
   },
   "file_extension": ".py",
   "mimetype": "text/x-python",
   "name": "python",
   "nbconvert_exporter": "python",
   "pygments_lexer": "ipython3",
   "version": "3.9.7"
  },
  "papermill": {
   "default_parameters": {},
   "duration": 2.878416,
   "end_time": "2024-12-20T15:11:11.991981",
   "environment_variables": {},
   "exception": null,
   "input_path": "/home/jovyan/work/DataProcessing/TrainDataPreprocessing.ipynb",
   "output_path": "/home/jovyan/work/DataProcessing/TrainDataPreprocessing.ipynb",
   "parameters": {},
   "start_time": "2024-12-20T15:11:09.113565",
   "version": "2.4.0"
  }
 },
 "nbformat": 4,
 "nbformat_minor": 5
}
