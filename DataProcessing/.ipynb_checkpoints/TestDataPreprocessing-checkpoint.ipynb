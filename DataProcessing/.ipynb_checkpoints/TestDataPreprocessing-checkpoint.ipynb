{
 "cells": [
  {
   "cell_type": "markdown",
   "id": "8cee0ae8",
   "metadata": {
    "tags": [
     "papermill-error-cell-tag"
    ]
   },
   "source": [
    "<span style=\"color:red; font-family:Helvetica Neue, Helvetica, Arial, sans-serif; font-size:2em;\">An Exception was encountered at '<a href=\"#papermill-error-cell\">In [9]</a>'.</span>"
   ]
  },
  {
   "cell_type": "code",
   "execution_count": 1,
   "id": "2da1a91b-46d7-4f2d-ba52-d828cc39fe9c",
   "metadata": {
    "execution": {
     "iopub.execute_input": "2024-12-20T15:18:49.953121Z",
     "iopub.status.busy": "2024-12-20T15:18:49.951526Z",
     "iopub.status.idle": "2024-12-20T15:18:50.452375Z",
     "shell.execute_reply": "2024-12-20T15:18:50.451352Z"
    },
    "papermill": {
     "duration": 0.520422,
     "end_time": "2024-12-20T15:18:50.452654",
     "exception": false,
     "start_time": "2024-12-20T15:18:49.932232",
     "status": "completed"
    },
    "tags": []
   },
   "outputs": [],
   "source": [
    "import pandas as pd"
   ]
  },
  {
   "cell_type": "code",
   "execution_count": 2,
   "id": "05dc7705-dc74-491b-a32b-dd85657466ec",
   "metadata": {
    "execution": {
     "iopub.execute_input": "2024-12-20T15:18:50.475579Z",
     "iopub.status.busy": "2024-12-20T15:18:50.472945Z",
     "iopub.status.idle": "2024-12-20T15:18:50.495351Z",
     "shell.execute_reply": "2024-12-20T15:18:50.495938Z"
    },
    "papermill": {
     "duration": 0.036938,
     "end_time": "2024-12-20T15:18:50.496141",
     "exception": false,
     "start_time": "2024-12-20T15:18:50.459203",
     "status": "completed"
    },
    "tags": []
   },
   "outputs": [],
   "source": [
    "test = pd.read_csv('../Data/test.csv')"
   ]
  },
  {
   "cell_type": "code",
   "execution_count": 3,
   "id": "cee06803-0a98-4be9-b93d-ef65732a6221",
   "metadata": {
    "execution": {
     "iopub.execute_input": "2024-12-20T15:18:50.515553Z",
     "iopub.status.busy": "2024-12-20T15:18:50.514264Z",
     "iopub.status.idle": "2024-12-20T15:18:50.527943Z",
     "shell.execute_reply": "2024-12-20T15:18:50.527294Z"
    },
    "papermill": {
     "duration": 0.027779,
     "end_time": "2024-12-20T15:18:50.528108",
     "exception": false,
     "start_time": "2024-12-20T15:18:50.500329",
     "status": "completed"
    },
    "tags": []
   },
   "outputs": [],
   "source": [
    "test['CryoSleep'].replace({True: 1, False: 0}, inplace=True)\n",
    "test['VIP'].replace({True: 1, False: 0}, inplace=True)"
   ]
  },
  {
   "cell_type": "code",
   "execution_count": 4,
   "id": "cd697c2b-6f4c-48d3-83e7-b5b759ba22ec",
   "metadata": {
    "execution": {
     "iopub.execute_input": "2024-12-20T15:18:50.548051Z",
     "iopub.status.busy": "2024-12-20T15:18:50.546561Z",
     "iopub.status.idle": "2024-12-20T15:18:50.572646Z",
     "shell.execute_reply": "2024-12-20T15:18:50.571910Z"
    },
    "papermill": {
     "duration": 0.040124,
     "end_time": "2024-12-20T15:18:50.572823",
     "exception": false,
     "start_time": "2024-12-20T15:18:50.532699",
     "status": "completed"
    },
    "tags": []
   },
   "outputs": [],
   "source": [
    "test['VIP'] = test['VIP'].fillna(0)\n",
    "num_df = test.select_dtypes(exclude=['object'])\n",
    "num_сols_with_missing = [col for col in num_df.columns \n",
    "                         if num_df[col].isnull().any()]\n",
    "test[num_сols_with_missing] = test[num_сols_with_missing].fillna(test[num_сols_with_missing].mean())"
   ]
  },
  {
   "cell_type": "code",
   "execution_count": 5,
   "id": "a037340c-79c7-4423-aade-b7e0c3133812",
   "metadata": {
    "execution": {
     "iopub.execute_input": "2024-12-20T15:18:50.592780Z",
     "iopub.status.busy": "2024-12-20T15:18:50.590726Z",
     "iopub.status.idle": "2024-12-20T15:18:50.621552Z",
     "shell.execute_reply": "2024-12-20T15:18:50.620571Z"
    },
    "papermill": {
     "duration": 0.04435,
     "end_time": "2024-12-20T15:18:50.621726",
     "exception": false,
     "start_time": "2024-12-20T15:18:50.577376",
     "status": "completed"
    },
    "tags": []
   },
   "outputs": [],
   "source": [
    "cols = ['PassengerId', 'HomePlanet', 'Cabin', 'Destination', 'Name']\n",
    "test[cols] = test[cols].transform(lambda x: x.fillna(x.dropna().mode()[0]))\n",
    "test['CryoSleep'] = test['CryoSleep'].astype(int)\n",
    "test['VIP'] = test['VIP'].astype(int)"
   ]
  },
  {
   "cell_type": "code",
   "execution_count": 6,
   "id": "d02bb817-41c1-4847-8e21-ff7a629258d1",
   "metadata": {
    "execution": {
     "iopub.execute_input": "2024-12-20T15:18:50.644620Z",
     "iopub.status.busy": "2024-12-20T15:18:50.639824Z",
     "iopub.status.idle": "2024-12-20T15:18:50.648730Z",
     "shell.execute_reply": "2024-12-20T15:18:50.647813Z"
    },
    "papermill": {
     "duration": 0.022676,
     "end_time": "2024-12-20T15:18:50.648977",
     "exception": false,
     "start_time": "2024-12-20T15:18:50.626301",
     "status": "completed"
    },
    "tags": []
   },
   "outputs": [],
   "source": [
    "# Проверяем существование столбца 'Cabin'\n",
    "if 'Cabin' in test.columns:\n",
    "    # Определяем размер экипажа на основе 'Cabin'\n",
    "    crew_size = test['Cabin'].value_counts()\n",
    "    test['CrewSize'] = test['Cabin'].map(crew_size)\n",
    "else:\n",
    "    print(\"Warning: 'Cabin' column not found.\")"
   ]
  },
  {
   "cell_type": "code",
   "execution_count": 7,
   "id": "839d8afb-884b-4e30-8e0d-1e938c91308b",
   "metadata": {
    "execution": {
     "iopub.execute_input": "2024-12-20T15:18:50.672220Z",
     "iopub.status.busy": "2024-12-20T15:18:50.671307Z",
     "iopub.status.idle": "2024-12-20T15:18:50.674918Z",
     "shell.execute_reply": "2024-12-20T15:18:50.673967Z"
    },
    "papermill": {
     "duration": 0.020903,
     "end_time": "2024-12-20T15:18:50.675104",
     "exception": false,
     "start_time": "2024-12-20T15:18:50.654201",
     "status": "completed"
    },
    "tags": []
   },
   "outputs": [],
   "source": [
    "cols = ['RoomService', 'FoodCourt', 'ShoppingMall', 'Spa', 'VRDeck']\n",
    "test['TotalWastes'] = test['RoomService'] + test['FoodCourt'] + test['ShoppingMall'] + test['Spa'] + test['VRDeck']\n",
    "test.drop(cols, axis=1, inplace=True)"
   ]
  },
  {
   "cell_type": "markdown",
   "id": "c6c9a7c5",
   "metadata": {
    "tags": [
     "papermill-error-cell-tag"
    ]
   },
   "source": [
    "<span id=\"papermill-error-cell\" style=\"color:red; font-family:Helvetica Neue, Helvetica, Arial, sans-serif; font-size:2em;\">Execution using papermill encountered an exception here and stopped:</span>"
   ]
  },
  {
   "cell_type": "code",
   "execution_count": 9,
   "id": "b7facd2a-5597-46b1-97b9-fc52930540f7",
   "metadata": {
    "execution": {
     "iopub.execute_input": "2024-12-20T15:18:50.716706Z",
     "iopub.status.busy": "2024-12-20T15:18:50.715351Z",
     "iopub.status.idle": "2024-12-20T15:18:50.918156Z",
     "shell.execute_reply": "2024-12-20T15:18:50.915473Z"
    },
    "papermill": {
     "duration": 0.21366,
     "end_time": "2024-12-20T15:18:50.918435",
     "exception": true,
     "start_time": "2024-12-20T15:18:50.704775",
     "status": "failed"
    },
    "tags": []
   },
   "outputs": [
    {
     "ename": "KeyError",
     "evalue": "'Cabin'",
     "output_type": "error",
     "traceback": [
      "\u001b[0;31m---------------------------------------------------------------------------\u001b[0m",
      "\u001b[0;31mKeyError\u001b[0m                                  Traceback (most recent call last)",
      "\u001b[0;32m/opt/conda/lib/python3.9/site-packages/pandas/core/indexes/base.py\u001b[0m in \u001b[0;36mget_loc\u001b[0;34m(self, key, method, tolerance)\u001b[0m\n\u001b[1;32m   3801\u001b[0m             \u001b[0;32mtry\u001b[0m\u001b[0;34m:\u001b[0m\u001b[0;34m\u001b[0m\u001b[0;34m\u001b[0m\u001b[0m\n\u001b[0;32m-> 3802\u001b[0;31m                 \u001b[0;32mreturn\u001b[0m \u001b[0mself\u001b[0m\u001b[0;34m.\u001b[0m\u001b[0m_engine\u001b[0m\u001b[0;34m.\u001b[0m\u001b[0mget_loc\u001b[0m\u001b[0;34m(\u001b[0m\u001b[0mcasted_key\u001b[0m\u001b[0;34m)\u001b[0m\u001b[0;34m\u001b[0m\u001b[0;34m\u001b[0m\u001b[0m\n\u001b[0m\u001b[1;32m   3803\u001b[0m             \u001b[0;32mexcept\u001b[0m \u001b[0mKeyError\u001b[0m \u001b[0;32mas\u001b[0m \u001b[0merr\u001b[0m\u001b[0;34m:\u001b[0m\u001b[0;34m\u001b[0m\u001b[0;34m\u001b[0m\u001b[0m\n",
      "\u001b[0;32m/opt/conda/lib/python3.9/site-packages/pandas/_libs/index.pyx\u001b[0m in \u001b[0;36mpandas._libs.index.IndexEngine.get_loc\u001b[0;34m()\u001b[0m\n",
      "\u001b[0;32m/opt/conda/lib/python3.9/site-packages/pandas/_libs/index.pyx\u001b[0m in \u001b[0;36mpandas._libs.index.IndexEngine.get_loc\u001b[0;34m()\u001b[0m\n",
      "\u001b[0;32mpandas/_libs/hashtable_class_helper.pxi\u001b[0m in \u001b[0;36mpandas._libs.hashtable.PyObjectHashTable.get_item\u001b[0;34m()\u001b[0m\n",
      "\u001b[0;32mpandas/_libs/hashtable_class_helper.pxi\u001b[0m in \u001b[0;36mpandas._libs.hashtable.PyObjectHashTable.get_item\u001b[0;34m()\u001b[0m\n",
      "\u001b[0;31mKeyError\u001b[0m: 'Cabin'",
      "\nThe above exception was the direct cause of the following exception:\n",
      "\u001b[0;31mKeyError\u001b[0m                                  Traceback (most recent call last)",
      "\u001b[0;32m/tmp/ipykernel_903/2879732204.py\u001b[0m in \u001b[0;36m<module>\u001b[0;34m\u001b[0m\n\u001b[0;32m----> 1\u001b[0;31m \u001b[0mcrew_size\u001b[0m \u001b[0;34m=\u001b[0m \u001b[0mtest\u001b[0m\u001b[0;34m[\u001b[0m\u001b[0;34m'Cabin'\u001b[0m\u001b[0;34m]\u001b[0m\u001b[0;34m.\u001b[0m\u001b[0mvalue_counts\u001b[0m\u001b[0;34m(\u001b[0m\u001b[0;34m)\u001b[0m\u001b[0;34m\u001b[0m\u001b[0;34m\u001b[0m\u001b[0m\n\u001b[0m\u001b[1;32m      2\u001b[0m \u001b[0mtest\u001b[0m\u001b[0;34m[\u001b[0m\u001b[0;34m'CrewSize'\u001b[0m\u001b[0;34m]\u001b[0m \u001b[0;34m=\u001b[0m \u001b[0mtest\u001b[0m\u001b[0;34m[\u001b[0m\u001b[0;34m'Cabin'\u001b[0m\u001b[0;34m]\u001b[0m\u001b[0;34m.\u001b[0m\u001b[0mmap\u001b[0m\u001b[0;34m(\u001b[0m\u001b[0mcrew_size\u001b[0m\u001b[0;34m)\u001b[0m\u001b[0;34m\u001b[0m\u001b[0;34m\u001b[0m\u001b[0m\n",
      "\u001b[0;32m/opt/conda/lib/python3.9/site-packages/pandas/core/frame.py\u001b[0m in \u001b[0;36m__getitem__\u001b[0;34m(self, key)\u001b[0m\n\u001b[1;32m   3805\u001b[0m             \u001b[0;32mif\u001b[0m \u001b[0mself\u001b[0m\u001b[0;34m.\u001b[0m\u001b[0mcolumns\u001b[0m\u001b[0;34m.\u001b[0m\u001b[0mnlevels\u001b[0m \u001b[0;34m>\u001b[0m \u001b[0;36m1\u001b[0m\u001b[0;34m:\u001b[0m\u001b[0;34m\u001b[0m\u001b[0;34m\u001b[0m\u001b[0m\n\u001b[1;32m   3806\u001b[0m                 \u001b[0;32mreturn\u001b[0m \u001b[0mself\u001b[0m\u001b[0;34m.\u001b[0m\u001b[0m_getitem_multilevel\u001b[0m\u001b[0;34m(\u001b[0m\u001b[0mkey\u001b[0m\u001b[0;34m)\u001b[0m\u001b[0;34m\u001b[0m\u001b[0;34m\u001b[0m\u001b[0m\n\u001b[0;32m-> 3807\u001b[0;31m             \u001b[0mindexer\u001b[0m \u001b[0;34m=\u001b[0m \u001b[0mself\u001b[0m\u001b[0;34m.\u001b[0m\u001b[0mcolumns\u001b[0m\u001b[0;34m.\u001b[0m\u001b[0mget_loc\u001b[0m\u001b[0;34m(\u001b[0m\u001b[0mkey\u001b[0m\u001b[0;34m)\u001b[0m\u001b[0;34m\u001b[0m\u001b[0;34m\u001b[0m\u001b[0m\n\u001b[0m\u001b[1;32m   3808\u001b[0m             \u001b[0;32mif\u001b[0m \u001b[0mis_integer\u001b[0m\u001b[0;34m(\u001b[0m\u001b[0mindexer\u001b[0m\u001b[0;34m)\u001b[0m\u001b[0;34m:\u001b[0m\u001b[0;34m\u001b[0m\u001b[0;34m\u001b[0m\u001b[0m\n\u001b[1;32m   3809\u001b[0m                 \u001b[0mindexer\u001b[0m \u001b[0;34m=\u001b[0m \u001b[0;34m[\u001b[0m\u001b[0mindexer\u001b[0m\u001b[0;34m]\u001b[0m\u001b[0;34m\u001b[0m\u001b[0;34m\u001b[0m\u001b[0m\n",
      "\u001b[0;32m/opt/conda/lib/python3.9/site-packages/pandas/core/indexes/base.py\u001b[0m in \u001b[0;36mget_loc\u001b[0;34m(self, key, method, tolerance)\u001b[0m\n\u001b[1;32m   3802\u001b[0m                 \u001b[0;32mreturn\u001b[0m \u001b[0mself\u001b[0m\u001b[0;34m.\u001b[0m\u001b[0m_engine\u001b[0m\u001b[0;34m.\u001b[0m\u001b[0mget_loc\u001b[0m\u001b[0;34m(\u001b[0m\u001b[0mcasted_key\u001b[0m\u001b[0;34m)\u001b[0m\u001b[0;34m\u001b[0m\u001b[0;34m\u001b[0m\u001b[0m\n\u001b[1;32m   3803\u001b[0m             \u001b[0;32mexcept\u001b[0m \u001b[0mKeyError\u001b[0m \u001b[0;32mas\u001b[0m \u001b[0merr\u001b[0m\u001b[0;34m:\u001b[0m\u001b[0;34m\u001b[0m\u001b[0;34m\u001b[0m\u001b[0m\n\u001b[0;32m-> 3804\u001b[0;31m                 \u001b[0;32mraise\u001b[0m \u001b[0mKeyError\u001b[0m\u001b[0;34m(\u001b[0m\u001b[0mkey\u001b[0m\u001b[0;34m)\u001b[0m \u001b[0;32mfrom\u001b[0m \u001b[0merr\u001b[0m\u001b[0;34m\u001b[0m\u001b[0;34m\u001b[0m\u001b[0m\n\u001b[0m\u001b[1;32m   3805\u001b[0m             \u001b[0;32mexcept\u001b[0m \u001b[0mTypeError\u001b[0m\u001b[0;34m:\u001b[0m\u001b[0;34m\u001b[0m\u001b[0;34m\u001b[0m\u001b[0m\n\u001b[1;32m   3806\u001b[0m                 \u001b[0;31m# If we have a listlike key, _check_indexing_error will raise\u001b[0m\u001b[0;34m\u001b[0m\u001b[0;34m\u001b[0m\u001b[0m\n",
      "\u001b[0;31mKeyError\u001b[0m: 'Cabin'"
     ]
    }
   ],
   "source": [
    "crew_size = test['Cabin'].value_counts()\n",
    "test['CrewSize'] = test['Cabin'].map(crew_size)"
   ]
  },
  {
   "cell_type": "code",
   "execution_count": null,
   "id": "579f632e-1a20-4c6b-9bc4-c84b3918e735",
   "metadata": {
    "papermill": {
     "duration": null,
     "end_time": null,
     "exception": null,
     "start_time": null,
     "status": "pending"
    },
    "tags": []
   },
   "outputs": [],
   "source": [
    "test.drop_duplicates(inplace=True)"
   ]
  },
  {
   "cell_type": "code",
   "execution_count": null,
   "id": "16e89905-44d4-425a-a1ee-c14e462f6fb9",
   "metadata": {
    "papermill": {
     "duration": null,
     "end_time": null,
     "exception": null,
     "start_time": null,
     "status": "pending"
    },
    "tags": []
   },
   "outputs": [],
   "source": [
    "test.to_csv('../Data/test_preprocessed.csv', index=False)"
   ]
  }
 ],
 "metadata": {
  "kernelspec": {
   "display_name": "Python 3 (ipykernel)",
   "language": "python",
   "name": "python3"
  },
  "language_info": {
   "codemirror_mode": {
    "name": "ipython",
    "version": 3
   },
   "file_extension": ".py",
   "mimetype": "text/x-python",
   "name": "python",
   "nbconvert_exporter": "python",
   "pygments_lexer": "ipython3",
   "version": "3.9.7"
  },
  "papermill": {
   "default_parameters": {},
   "duration": 2.861675,
   "end_time": "2024-12-20T15:18:51.245471",
   "environment_variables": {},
   "exception": true,
   "input_path": "/home/jovyan/work/DataProcessing/TestDataPreprocessing.ipynb",
   "output_path": "/home/jovyan/work/DataProcessing/TestDataPreprocessing.ipynb",
   "parameters": {},
   "start_time": "2024-12-20T15:18:48.383796",
   "version": "2.4.0"
  }
 },
 "nbformat": 4,
 "nbformat_minor": 5
}
