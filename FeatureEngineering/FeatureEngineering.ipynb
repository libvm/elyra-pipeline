{
 "cells": [
  {
   "cell_type": "code",
   "execution_count": 1,
   "id": "848ed421-ed8c-41f6-b72f-dbe80c504205",
   "metadata": {
    "execution": {
     "iopub.execute_input": "2024-12-20T15:37:13.216406Z",
     "iopub.status.busy": "2024-12-20T15:37:13.215018Z",
     "iopub.status.idle": "2024-12-20T15:37:19.892745Z",
     "shell.execute_reply": "2024-12-20T15:37:19.891479Z"
    },
    "papermill": {
     "duration": 6.704688,
     "end_time": "2024-12-20T15:37:19.893044",
     "exception": false,
     "start_time": "2024-12-20T15:37:13.188356",
     "status": "completed"
    },
    "tags": []
   },
   "outputs": [],
   "source": [
    "try:\n",
    "    !pip install scikit-learn matplotlib catboost seaborn --quiet\n",
    "except Exception as e:\n",
    "    print(f\"An error occurred: {e}\")"
   ]
  },
  {
   "cell_type": "code",
   "execution_count": 2,
   "id": "a664e5e4-e1f4-4504-9f4f-53bddb51e949",
   "metadata": {
    "execution": {
     "iopub.execute_input": "2024-12-20T15:37:19.929395Z",
     "iopub.status.busy": "2024-12-20T15:37:19.924152Z",
     "iopub.status.idle": "2024-12-20T15:37:22.994809Z",
     "shell.execute_reply": "2024-12-20T15:37:22.985750Z"
    },
    "papermill": {
     "duration": 3.096332,
     "end_time": "2024-12-20T15:37:22.995133",
     "exception": false,
     "start_time": "2024-12-20T15:37:19.898801",
     "status": "completed"
    },
    "tags": []
   },
   "outputs": [],
   "source": [
    "import pandas as pd\n",
    "import numpy as np\n",
    "import seaborn\n",
    "from matplotlib import pyplot as plt\n",
    "from sklearn.model_selection import train_test_split\n",
    "from sklearn.linear_model import LogisticRegression\n",
    "from sklearn.ensemble import RandomForestClassifier\n",
    "from catboost import CatBoostClassifier\n",
    "from sklearn.metrics import accuracy_score\n",
    "from sklearn.preprocessing import StandardScaler, LabelEncoder, MaxAbsScaler\n",
    "from sklearn.utils.extmath import softmax"
   ]
  },
  {
   "cell_type": "code",
   "execution_count": 3,
   "id": "717a8204-9607-46e9-a424-1dcd3fd88d19",
   "metadata": {
    "execution": {
     "iopub.execute_input": "2024-12-20T15:37:23.042536Z",
     "iopub.status.busy": "2024-12-20T15:37:23.040741Z",
     "iopub.status.idle": "2024-12-20T15:37:23.121293Z",
     "shell.execute_reply": "2024-12-20T15:37:23.120267Z"
    },
    "papermill": {
     "duration": 0.114826,
     "end_time": "2024-12-20T15:37:23.121566",
     "exception": false,
     "start_time": "2024-12-20T15:37:23.006740",
     "status": "completed"
    },
    "tags": []
   },
   "outputs": [],
   "source": [
    "train = pd.read_csv('../Data/train_preprocessed.csv')\n",
    "test = pd.read_csv('../Data/test_preprocessed.csv')"
   ]
  },
  {
   "cell_type": "code",
   "execution_count": 4,
   "id": "bb2cae28-0529-433e-988d-be92f39a5df6",
   "metadata": {
    "execution": {
     "iopub.execute_input": "2024-12-20T15:37:23.157641Z",
     "iopub.status.busy": "2024-12-20T15:37:23.155855Z",
     "iopub.status.idle": "2024-12-20T15:37:23.956366Z",
     "shell.execute_reply": "2024-12-20T15:37:23.957438Z"
    },
    "papermill": {
     "duration": 0.829897,
     "end_time": "2024-12-20T15:37:23.957721",
     "exception": false,
     "start_time": "2024-12-20T15:37:23.127824",
     "status": "completed"
    },
    "tags": []
   },
   "outputs": [],
   "source": [
    "def feature_importances(df):\n",
    "    df = pd.get_dummies(data=df, columns=['HomePlanet', 'Cabin'], drop_first=True)\n",
    "\n",
    "    # Определяем X и y\n",
    "    X = df.drop('Transported', axis=1)\n",
    "    y = df['Transported']\n",
    "\n",
    "    le_transported = LabelEncoder()\n",
    "    y = le_transported.fit_transform(y)\n",
    "\n",
    "    X_train, X_test, y_train, y_test = train_test_split(X, y, test_size=0.25, random_state=0)\n",
    "\n",
    "    # Логистическая регрессия\n",
    "    clf_lr = LogisticRegression(random_state=0, max_iter=1000)\n",
    "    clf_lr.fit(X_train, y_train)\n",
    "    coef_lr = clf_lr.coef_[0]\n",
    "\n",
    "    acc_train_lr = accuracy_score(y_true=y_train, y_pred=clf_lr.predict(X_train))\n",
    "    acc_test_lr = accuracy_score(y_true=y_test, y_pred=clf_lr.predict(X_test))\n",
    "    label_lr = f'Importance (LR abs), acc_train = {acc_train_lr:.2%}, acc_test = {acc_test_lr:.2%}'\n",
    "\n",
    "    # Random Forest\n",
    "    clf_rf = RandomForestClassifier(random_state=0)\n",
    "    clf_rf.fit(X_train, y_train)\n",
    "    coef_rf = clf_rf.feature_importances_\n",
    "\n",
    "    acc_train_rf = accuracy_score(y_true=y_train, y_pred=clf_rf.predict(X_train))\n",
    "    acc_test_rf = accuracy_score(y_true=y_test, y_pred=clf_rf.predict(X_test))\n",
    "    label_rf = f'Importance (RF), acc_train = {acc_train_rf:.2%}, acc_test = {acc_test_rf:.2%}'\n",
    "\n",
    "    # CatBoost\n",
    "    clf_cat = CatBoostClassifier(random_state=0, silent=True)\n",
    "    clf_cat.fit(X_train, y_train)\n",
    "    coef_cat = clf_cat.feature_importances_\n",
    "\n",
    "    acc_train_cat = accuracy_score(y_true=y_train, y_pred=clf_cat.predict(X_train).astype('bool'))\n",
    "    acc_test_cat = accuracy_score(y_true=y_test, y_pred=clf_cat.predict(X_test).astype('bool'))\n",
    "    label_cat = f'Importance (CatBoost), acc_train = {acc_train_cat:.2%}, acc_test = {acc_test_cat:.2%}'\n",
    "\n",
    "    feature_importances = pd.DataFrame({\n",
    "        'Feature': X.columns,\n",
    "        'LR': np.abs(coef_lr),\n",
    "        'RF': coef_rf,\n",
    "        'CatBoost': coef_cat\n",
    "    })\n",
    "\n",
    "    # Суммируем важность по исходным категориальным переменным\n",
    "    feature_importances['Category'] = feature_importances['Feature'].str.split('_').str[0]\n",
    "    grouped_importances = feature_importances.groupby('Category').sum().reset_index()\n",
    "\n",
    "    # Сортируем по важности\n",
    "    grouped_importances = grouped_importances.sort_values(by='CatBoost', ascending=False)\n",
    "\n",
    "    # Масштабируем важность\n",
    "    scaler = MaxAbsScaler()\n",
    "    grouped_importances[['LR', 'RF', 'CatBoost']] = scaler.fit_transform(grouped_importances[['LR', 'RF', 'CatBoost']])\n",
    "\n",
    "    grouped_importances.plot(kind='bar', x='Category', figsize=(10, 6))\n",
    "    plt.title('Feature Importance by Category')\n",
    "    plt.ylabel('Normalized Importance')\n",
    "    plt.show()\n",
    "    return ([acc_train_lr, acc_train_rf, acc_train_cat], [acc_test_lr, acc_test_rf, acc_test_cat])"
   ]
  },
  {
   "cell_type": "code",
   "execution_count": 6,
   "id": "509b2eaa-2735-41fb-aa95-b269c6dc4bb0",
   "metadata": {
    "execution": {
     "iopub.execute_input": "2024-12-20T15:37:24.015065Z",
     "iopub.status.busy": "2024-12-20T15:37:24.013688Z",
     "iopub.status.idle": "2024-12-20T15:39:22.443307Z",
     "shell.execute_reply": "2024-12-20T15:39:22.442460Z"
    },
    "papermill": {
     "duration": 118.447702,
     "end_time": "2024-12-20T15:39:22.443474",
     "exception": false,
     "start_time": "2024-12-20T15:37:23.995772",
     "status": "completed"
    },
    "tags": []
   },
   "outputs": [
    {
     "name": "stderr",
     "output_type": "stream",
     "text": [
      "/opt/conda/lib/python3.9/site-packages/sklearn/linear_model/_logistic.py:465: ConvergenceWarning: lbfgs failed to converge (status=1):\n",
      "STOP: TOTAL NO. of ITERATIONS REACHED LIMIT.\n",
      "\n",
      "Increase the number of iterations (max_iter) or scale the data as shown in:\n",
      "    https://scikit-learn.org/stable/modules/preprocessing.html\n",
      "Please also refer to the documentation for alternative solver options:\n",
      "    https://scikit-learn.org/stable/modules/linear_model.html#logistic-regression\n",
      "  n_iter_i = _check_optimize_result(\n",
      "/tmp/ipykernel_1587/954386848.py:59: FutureWarning: The default value of numeric_only in DataFrameGroupBy.sum is deprecated. In a future version, numeric_only will default to False. Either specify numeric_only or select only columns which should be valid for the function.\n",
      "  grouped_importances = feature_importances.groupby('Category').sum().reset_index()\n"
     ]
    },
    {
     "data": {
      "image/png": "[encoded data removed]",
      "text/plain": [
       "<Figure size 720x432 with 1 Axes>"
      ]
     },
     "metadata": {
      "needs_background": "light"
     },
     "output_type": "display_data"
    }
   ],
   "source": [
    "train2 = train[['CryoSleep', 'Age', 'TotalWastes', 'CrewSize', 'Transported', 'HomePlanet', 'Cabin']]\n",
    "acc_train, acc_test = feature_importances(train2)"
   ]
  },
  {
   "cell_type": "code",
   "execution_count": 7,
   "id": "b3e35cbf-086b-4a0c-a322-2b0386d75ccb",
   "metadata": {
    "execution": {
     "iopub.execute_input": "2024-12-20T15:39:22.568800Z",
     "iopub.status.busy": "2024-12-20T15:39:22.460568Z",
     "iopub.status.idle": "2024-12-20T15:39:22.824336Z",
     "shell.execute_reply": "2024-12-20T15:39:22.821882Z"
    },
    "papermill": {
     "duration": 0.376538,
     "end_time": "2024-12-20T15:39:22.824794",
     "exception": false,
     "start_time": "2024-12-20T15:39:22.448256",
     "status": "completed"
    },
    "tags": []
   },
   "outputs": [
    {
     "data": {
      "text/plain": [
       "<Axes: >"
      ]
     },
     "execution_count": 7,
     "metadata": {},
     "output_type": "execute_result"
    },
    {
     "data": {
      "image/png": "[encoded data removed]",
      "text/plain": [
       "<Figure size 432x288 with 1 Axes>"
      ]
     },
     "metadata": {
      "needs_background": "light"
     },
     "output_type": "display_data"
    }
   ],
   "source": [
    "d = {\n",
    "    'acc_train': acc_train,\n",
    "    'acc_test': acc_test\n",
    "}\n",
    "\n",
    "acc_df = pd.DataFrame(d)\n",
    "acc_df.plot.bar()"
   ]
  }
 ],
 "metadata": {
  "kernelspec": {
   "display_name": "Python 3 (ipykernel)",
   "language": "python",
   "name": "python3"
  },
  "language_info": {
   "codemirror_mode": {
    "name": "ipython",
    "version": 3
   },
   "file_extension": ".py",
   "mimetype": "text/x-python",
   "name": "python",
   "nbconvert_exporter": "python",
   "pygments_lexer": "ipython3",
   "version": "3.9.7"
  },
  "papermill": {
   "default_parameters": {},
   "duration": 131.992352,
   "end_time": "2024-12-20T15:39:23.372979",
   "environment_variables": {},
   "exception": null,
   "input_path": "/home/jovyan/work/FeatureEngineering/FeatureEngineering.ipynb",
   "output_path": "/home/jovyan/work/FeatureEngineering/FeatureEngineering.ipynb",
   "parameters": {},
   "start_time": "2024-12-20T15:37:11.380627",
   "version": "2.4.0"
  }
 },
 "nbformat": 4,
 "nbformat_minor": 5
}
